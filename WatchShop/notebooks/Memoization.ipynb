{
 "cells": [
  {
   "cell_type": "code",
   "execution_count": 1,
   "id": "66b3d864-1a91-40f4-9655-eebcdb5d124b",
   "metadata": {},
   "outputs": [],
   "source": [
    "def fib(n):\n",
    "    if n==0:\n",
    "        return 0\n",
    "    elif n==1 or n==2:\n",
    "        return 1\n",
    "    return fib(n-1) + fib(n-2)"
   ]
  },
  {
   "cell_type": "code",
   "execution_count": 5,
   "id": "12ec7eab-fc70-47cc-8ba5-ff6ae81aebb9",
   "metadata": {},
   "outputs": [
    {
     "data": {
      "text/plain": [
       "21"
      ]
     },
     "execution_count": 5,
     "metadata": {},
     "output_type": "execute_result"
    }
   ],
   "source": [
    "fib(8)"
   ]
  },
  {
   "cell_type": "code",
   "execution_count": null,
   "id": "a38bcb73-7419-4837-a53b-8a4ac292e6a9",
   "metadata": {},
   "outputs": [],
   "source": []
  },
  {
   "cell_type": "code",
   "execution_count": 7,
   "id": "595a9534-6808-4e79-9f07-ee8ef44dba53",
   "metadata": {},
   "outputs": [],
   "source": [
    "def fib2(n, mem={}):\n",
    "    if n in mem.keys():\n",
    "        return mem[n]\n",
    "    if n==0:\n",
    "        mem[0] = 0\n",
    "        return mem[0]\n",
    "    elif n==1 or n==2:\n",
    "        mem[n] = 1\n",
    "        return mem[n]\n",
    "    mem[n] = fib2(n-1, mem) + fib2(n-2, mem)\n",
    "    return mem[n]"
   ]
  },
  {
   "cell_type": "code",
   "execution_count": 10,
   "id": "d185a510-e0fb-42fe-9f83-3cdb9ee1f0f2",
   "metadata": {},
   "outputs": [
    {
     "data": {
      "text/plain": [
       "21"
      ]
     },
     "execution_count": 10,
     "metadata": {},
     "output_type": "execute_result"
    }
   ],
   "source": [
    "fib2(8)"
   ]
  },
  {
   "cell_type": "code",
   "execution_count": 13,
   "id": "44820030-7b17-4f4f-9a6d-cd93c3d204ee",
   "metadata": {},
   "outputs": [
    {
     "data": {
      "text/plain": [
       "12586269025"
      ]
     },
     "execution_count": 13,
     "metadata": {},
     "output_type": "execute_result"
    }
   ],
   "source": [
    "fib2(50)"
   ]
  },
  {
   "cell_type": "markdown",
   "id": "e6ea3d49-1586-471f-afc5-2a54a1d4be6e",
   "metadata": {},
   "source": [
    "# LRU_CACHE"
   ]
  },
  {
   "cell_type": "code",
   "execution_count": 14,
   "id": "0d3a72fe-8133-4349-9e7b-977a2fad2a1d",
   "metadata": {},
   "outputs": [],
   "source": [
    "from functools import lru_cache\n",
    "\n",
    "@lru_cache(None)\n",
    "def fib3(n, mem={}):\n",
    "    if n==0:\n",
    "        return 0\n",
    "    elif n==1 or n==2:\n",
    "        return 1\n",
    "    return fib3(n-1) + fib3(n-2)"
   ]
  },
  {
   "cell_type": "code",
   "execution_count": 15,
   "id": "f5cf5b2d-de19-4837-a3ae-927ee4996969",
   "metadata": {},
   "outputs": [
    {
     "data": {
      "text/plain": [
       "21"
      ]
     },
     "execution_count": 15,
     "metadata": {},
     "output_type": "execute_result"
    }
   ],
   "source": [
    "fib3(8)"
   ]
  },
  {
   "cell_type": "code",
   "execution_count": 16,
   "id": "a2aba5b5-7354-4805-bbc7-3d79bfbc7d86",
   "metadata": {},
   "outputs": [
    {
     "data": {
      "text/plain": [
       "12586269025"
      ]
     },
     "execution_count": 16,
     "metadata": {},
     "output_type": "execute_result"
    }
   ],
   "source": [
    "fib3(50)"
   ]
  }
 ],
 "metadata": {
  "kernelspec": {
   "display_name": "Python 3 (ipykernel)",
   "language": "python",
   "name": "python3"
  },
  "language_info": {
   "codemirror_mode": {
    "name": "ipython",
    "version": 3
   },
   "file_extension": ".py",
   "mimetype": "text/x-python",
   "name": "python",
   "nbconvert_exporter": "python",
   "pygments_lexer": "ipython3",
   "version": "3.10.0"
  }
 },
 "nbformat": 4,
 "nbformat_minor": 5
}
